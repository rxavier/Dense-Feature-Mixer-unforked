{
 "cells": [
  {
   "cell_type": "code",
   "execution_count": 1,
   "metadata": {},
   "outputs": [],
   "source": [
    "from sklearn.model_selection import train_test_split, cross_val_score\n",
    "from sklearn.linear_model import LogisticRegression\n",
    "from sklearn.pipeline import make_pipeline\n",
    "from sklearn.preprocessing import StandardScaler, OrdinalEncoder\n",
    "from sklearn.datasets import fetch_openml\n",
    "\n",
    "from dense_feature_mixer import DenseFeatureMixer\n",
    "from dense_feature_mixer.compose import ColumnTransformerWithNames\n",
    "\n",
    "\n",
    "X, y = fetch_openml(\"titanic\", version=1, return_X_y=True, as_frame=True)\n",
    "X = X.drop([\"name\", \"ticket\", \"cabin\", \"boat\", \"body\"], axis=1).dropna()\n",
    "y = y.reindex(X.index).astype(int)\n",
    "numeric_vars = [\"age\", \"fare\"]\n",
    "categorical_vars = [\"sex\", \"pclass\", \"parch\", \"embarked\"]\n",
    "\n",
    "X_train, X_test, y_train, y_test = train_test_split(X, y, test_size=0.2)\n"
   ]
  },
  {
   "cell_type": "code",
   "execution_count": 2,
   "metadata": {},
   "outputs": [
    {
     "name": "stdout",
     "output_type": "stream",
     "text": [
      "Mean score: 0.80 (0.03)\n"
     ]
    }
   ],
   "source": [
    "ordinal_encoder = OrdinalEncoder(handle_unknown=\"use_encoded_value\", unknown_value=999)\n",
    "col_transformer = ColumnTransformerWithNames([(\"num_transformer\", StandardScaler(), numeric_vars), \n",
    "                                              (\"cat_transformer\", ordinal_encoder, categorical_vars)],\n",
    "                                             remainder=\"drop\")\n",
    "\n",
    "pipe = make_pipeline(col_transformer,\n",
    "                     DenseFeatureMixer(task=\"classification\",\n",
    "                                       categorical_vars=categorical_vars,\n",
    "                                       unknown_category=999),\n",
    "                     LogisticRegression())\n",
    "#pipe.fit(X_train, y_train)\n",
    "\n",
    "cv_score = cross_val_score(pipe, X_train, y_train, cv=3)\n",
    "print(f\"Mean score: {cv_score.mean():.2f} ({cv_score.std():.2f})\")"
   ]
  },
  {
   "cell_type": "code",
   "execution_count": null,
   "metadata": {},
   "outputs": [],
   "source": []
  }
 ],
 "metadata": {
  "interpreter": {
   "hash": "f2ed7e2f6f4844a3a1abca9d4890c18a6d360db2f5fe51382655934a7a89565d"
  },
  "kernelspec": {
   "display_name": "Python 3.7.9 64-bit ('Dense-Feature-Mixer': virtualenv)",
   "language": "python",
   "name": "python3"
  },
  "language_info": {
   "codemirror_mode": {
    "name": "ipython",
    "version": 3
   },
   "file_extension": ".py",
   "mimetype": "text/x-python",
   "name": "python",
   "nbconvert_exporter": "python",
   "pygments_lexer": "ipython3",
   "version": "3.7.9"
  },
  "orig_nbformat": 4
 },
 "nbformat": 4,
 "nbformat_minor": 2
}
